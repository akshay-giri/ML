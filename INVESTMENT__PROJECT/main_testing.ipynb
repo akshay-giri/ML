{
 "cells": [
  {
   "cell_type": "code",
   "execution_count": 1,
   "id": "44d4e9d9",
   "metadata": {},
   "outputs": [],
   "source": [
    "import pickle\n",
    "import pandas as pd\n",
    "import numpy as np\n",
    "import matplotlib.pyplot as plt\n",
    "import seaborn as sns\n",
    "\n",
    "X_LE = pickle.load(open(\"X_LE.pkl\",'rb'))\n",
    "Y_LE = pickle.load(open(\"Y_LE.pkl\",'rb'))\n",
    "SS = pickle.load(open(\"SS.pkl\",'rb'))\n",
    "\n",
    "model = pickle.load(open(\"GBC_model.pkl\",'rb'))"
   ]
  },
  {
   "cell_type": "code",
   "execution_count": 2,
   "id": "461c8d77",
   "metadata": {},
   "outputs": [],
   "source": [
    "def Get_prediction(x):\n",
    "    x[1] = X_LE.transform([x[1]])\n",
    "    x = np.array(x)\n",
    "    x = SS.transform([x])\n",
    "    op = model.predict(x)\n",
    "    return Y_LE.inverse_transform(op)"
   ]
  },
  {
   "cell_type": "code",
   "execution_count": 3,
   "id": "31a0281a",
   "metadata": {},
   "outputs": [],
   "source": [
    "ip = [58, 'G0', 14, 0.0, 185777, 379383, 375315, 118514, 309516, 0, 0,\n",
    "        0, 0, 0, 0, 1, 0, 0, 1, 0, 0, 0, 0, 0, 0, 0, 2]"
   ]
  },
  {
   "cell_type": "code",
   "execution_count": 4,
   "id": "7a4e4101",
   "metadata": {},
   "outputs": [
    {
     "name": "stderr",
     "output_type": "stream",
     "text": [
      "C:\\Users\\admin\\AppData\\Local\\Temp\\ipykernel_2176\\983126773.py:3: VisibleDeprecationWarning: Creating an ndarray from ragged nested sequences (which is a list-or-tuple of lists-or-tuples-or ndarrays with different lengths or shapes) is deprecated. If you meant to do this, you must specify 'dtype=object' when creating the ndarray.\n",
      "  x = np.array(x)\n",
      "C:\\ProgramData\\Anaconda3\\lib\\site-packages\\sklearn\\base.py:450: UserWarning: X does not have valid feature names, but StandardScaler was fitted with feature names\n",
      "  warnings.warn(\n"
     ]
    },
    {
     "data": {
      "text/plain": [
       "array(['C0'], dtype=object)"
      ]
     },
     "execution_count": 4,
     "metadata": {},
     "output_type": "execute_result"
    }
   ],
   "source": [
    "Get_prediction(ip)"
   ]
  }
 ],
 "metadata": {
  "kernelspec": {
   "display_name": "Python 3 (ipykernel)",
   "language": "python",
   "name": "python3"
  },
  "language_info": {
   "codemirror_mode": {
    "name": "ipython",
    "version": 3
   },
   "file_extension": ".py",
   "mimetype": "text/x-python",
   "name": "python",
   "nbconvert_exporter": "python",
   "pygments_lexer": "ipython3",
   "version": "3.9.12"
  }
 },
 "nbformat": 4,
 "nbformat_minor": 5
}
